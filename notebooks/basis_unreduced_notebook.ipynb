{
 "cells": [
  {
   "cell_type": "markdown",
   "metadata": {},
   "source": [
    "Importing packages"
   ]
  },
  {
   "cell_type": "code",
   "execution_count": 9,
   "metadata": {},
   "outputs": [],
   "source": [
    "import scipy.integrate as scint\n",
    "import numpy as np\n",
    "import matplotlib.pyplot as plt\n",
    "\n",
    "from typing import Optional, Iterable\n",
    "flint = float | int\n",
    "interval_t = tuple[flint, flint] | Iterable[flint]"
   ]
  },
  {
   "cell_type": "markdown",
   "metadata": {},
   "source": [
    "Simulation function"
   ]
  },
  {
   "cell_type": "code",
   "execution_count": 10,
   "metadata": {},
   "outputs": [],
   "source": [
    "def execute_simulation(f,\n",
    "                       u0: Iterable[float | int],\n",
    "                       coeffs: Iterable[float | int],\n",
    "                       time_bound: float | int = 50,\n",
    "                       granularity: Optional[int | str] = \"auto\"):\n",
    "    # handle default values and make sure this function is effectively pass-by-value.\n",
    "    u0_val = [item for item in u0].copy()\n",
    "    coeffs_val = [item for item in coeffs].copy()\n",
    "    time_bound_val = time_bound\n",
    "    granularity_val = None if granularity == \"auto\" else granularity\n",
    "\n",
    "    auto_evals = granularity_val is None\n",
    "    if isinstance(granularity_val, str) and not auto_evals:\n",
    "        raise ValueError(f\"`granularity` must be either \\\"auto\\\" or a non-string, but was `{granularity}`.\")\n",
    "\n",
    "    t_span = (0, time_bound_val)\n",
    "    y0 = u0_val\n",
    "    args = (coeffs_val,)\n",
    "    method = 'Radau'\n",
    "    t_eval = None if auto_evals else np.linspace(0, time_bound_val, granularity_val + 1)\n",
    "\n",
    "    # try to solve the ODE problem\n",
    "    sol = None\n",
    "    try:\n",
    "        sol = scint.solve_ivp(fun=f, t_span=t_span, y0=y0, method=method, t_eval=t_eval, args=args)\n",
    "    except Exception:\n",
    "        print(\"fail\")\n",
    "        return (False, u0_val, coeffs_val, time_bound_val, granularity_val, sol)\n",
    "    print(\"success\")\n",
    "\n",
    "    # return the results\n",
    "    return (True, u0_val, coeffs_val, time_bound_val, granularity_val, sol)"
   ]
  },
  {
   "cell_type": "markdown",
   "metadata": {},
   "source": [
    "Visualization function"
   ]
  },
  {
   "cell_type": "code",
   "execution_count": 11,
   "metadata": {},
   "outputs": [],
   "source": [
    "\n",
    "def visualize_simulation(u0, coeffs, time_bound, granularity, sol):\n",
    "    fig, axs = plt.subplots(3, 2, layout='constrained')\n",
    "    try:\n",
    "        t = sol.t\n",
    "        p, q, x, y, r, s = sol.y\n",
    "        p0, q0, x0, y0, r0, s0 = u0\n",
    "        k1, k2, k3, k4 = coeffs\n",
    "        the_label = f\"u0=({p0}, {q0}, {x0}, {y0}, {r0}, {s0});\\n{k1=}; {k2=}; {k3=}; {k4=}\"\n",
    "        axs[0, 0].plot(t, p, label=the_label)\n",
    "        axs[0, 1].plot(t, q, label=the_label)\n",
    "        axs[1, 0].plot(t, x, label=the_label)\n",
    "        axs[1, 1].plot(t, y, label=the_label)\n",
    "        axs[2, 0].plot(t, r, label=the_label)\n",
    "        axs[2, 1].plot(t, s, label=the_label)\n",
    "        axs[1, 0].plot(t, y, label=the_label, alpha=0.2)  # for comparison\n",
    "        axs[1, 1].plot(t, x, label=the_label, alpha=0.2)  # for comparison\n",
    "        # TODO: make the color of these lines appear in the legend too\n",
    "        # TODO: make these lines appear behind the other ones, but with these colors\n",
    "        # TODO: make it so the labels are aligned with one another\n",
    "        axs[0, 0].set(ylabel=\"p\")\n",
    "        axs[0, 0].xaxis.set_major_formatter('')\n",
    "        axs[0, 0].tick_params(axis='x', length=0)\n",
    "        axs[0, 0].grid(True, linestyle='dashed')\n",
    "        axs[0, 1].set(ylabel=\"q\")\n",
    "        axs[0, 1].xaxis.set_major_formatter('')\n",
    "        axs[0, 1].tick_params(axis='x', length=0)\n",
    "        axs[0, 1].grid(True, linestyle='dashed')\n",
    "        axs[1, 0].set(ylabel=\"x\")\n",
    "        axs[1, 0].xaxis.set_major_formatter('')\n",
    "        axs[1, 0].tick_params(axis='x', length=0)\n",
    "        axs[1, 0].grid(True, linestyle='dashed')\n",
    "        axs[1, 1].set(ylabel=\"y\")\n",
    "        axs[1, 1].xaxis.set_major_formatter('')\n",
    "        axs[1, 1].tick_params(axis='x', length=0)\n",
    "        axs[1, 1].grid(True, linestyle='dashed')\n",
    "        axs[2, 0].set(ylabel=\"r\", xlabel='t')\n",
    "        axs[2, 0].grid(True, linestyle='dashed')\n",
    "        axs[2, 1].set(ylabel=\"s\", xlabel='t')\n",
    "        axs[2, 1].grid(True, linestyle='dashed')\n",
    "        p_min, p_max = axs[0, 0].get_ylim()\n",
    "        q_min, q_max = axs[0, 1].get_ylim()\n",
    "        x_min, x_max = axs[1, 0].get_ylim()\n",
    "        y_min, y_max = axs[1, 1].get_ylim()\n",
    "        r_min, r_max = axs[2, 0].get_ylim()\n",
    "        s_min, s_max = axs[2, 1].get_ylim()\n",
    "        axs[0, 0].set_ylim(0, 2 * p0)\n",
    "        axs[0, 1].set_ylim(0, 2 * q0)\n",
    "        axs[1, 0].set_ylim(min(x_min, y_min), max(x_max, y_max))\n",
    "        axs[1, 1].set_ylim(min(x_min, y_min), max(x_max, y_max))\n",
    "        axs[2, 0].set_ylim(r_min, r_max)\n",
    "        axs[2, 1].set_ylim(s_min, s_max)\n",
    "    except Exception as exception:\n",
    "        print(\"graph fail\")\n",
    "        raise exception\n",
    "    print(\"graph success\")\n",
    "    handles, labels = axs[2, 0].get_legend_handles_labels()\n",
    "    fig.legend(handles, labels, mode='expand', loc='outside lower center')\n",
    "    fig.suptitle(\"A graph of the unreduced base model with constant P and Q.\")\n",
    "    plt.show()"
   ]
  },
  {
   "cell_type": "markdown",
   "metadata": {},
   "source": [
    "Select model"
   ]
  },
  {
   "cell_type": "code",
   "execution_count": 13,
   "metadata": {},
   "outputs": [],
   "source": [
    "def f(t, u, coeffs):\n",
    "    p, q, x, y, r, s = u\n",
    "    k1, k2, k3, k4 = coeffs\n",
    "    return np.array([\n",
    "        0,\n",
    "        0,\n",
    "        k1 * p - k2 * q * x + k3 * x * x * y - k4 * x,\n",
    "        k2 * q * x - k3 * x * x * y,\n",
    "        k2 * q * x,\n",
    "        k4 * x\n",
    "    ])"
   ]
  },
  {
   "cell_type": "markdown",
   "metadata": {},
   "source": [
    "Specify parameters"
   ]
  },
  {
   "cell_type": "code",
   "execution_count": 14,
   "metadata": {},
   "outputs": [],
   "source": [
    "u0 = [0.59, 0.56, 0.83, 1.25, 0, 0]  # list of starting values of the variables; first part of the parameters.\n",
    "coeffs = [0.19, 1.07, 0.85, 0.22]  # list of coefficients for reaction speeds; second part of the parameters.\n",
    "time_bound = 200  # cutoff point in time to stop the simulation at, or None for the default value of 50.\n",
    "granularity = None  # number of points in time to actually log the values at (not counting t=0),\n",
    "# or None to let the solver itself decide for us."
   ]
  },
  {
   "cell_type": "markdown",
   "metadata": {},
   "source": [
    "Execute simulation"
   ]
  },
  {
   "cell_type": "code",
   "execution_count": 23,
   "metadata": {},
   "outputs": [
    {
     "name": "stdout",
     "output_type": "stream",
     "text": [
      "modified_u0=[1, 1, 1, 1, 0, 0]\n",
      "modified_coeffs=[0.2, 0.3]\n",
      "success\n"
     ]
    }
   ],
   "source": [
    "result = execute_simulation(f=f, u0=u0, coeffs=coeffs, time_bound=time_bound, granularity=granularity)\n",
    "success_out, u0_out, coeffs_out, time_bound_out, granularity_out, sol_out = result"
   ]
  },
  {
   "cell_type": "markdown",
   "metadata": {},
   "source": [
    "Execute visualization"
   ]
  },
  {
   "cell_type": "code",
   "execution_count": null,
   "metadata": {},
   "outputs": [],
   "source": [
    "if success_out:\n",
    "    visualize_simulation(u0_out, coeffs_out, time_bound_out, granularity_out, sol_out)\n",
    "else:\n",
    "    print(\"simulation failed. Stopping and printing failed settings.\")\n",
    "    print(u0_out, \"\\n\", coeffs_out)"
   ]
  }
 ],
 "metadata": {
  "kernelspec": {
   "display_name": ".venv12",
   "language": "python",
   "name": "python3"
  },
  "language_info": {
   "codemirror_mode": {
    "name": "ipython",
    "version": 3
   },
   "file_extension": ".py",
   "mimetype": "text/x-python",
   "name": "python",
   "nbconvert_exporter": "python",
   "pygments_lexer": "ipython3",
   "version": "3.12.1"
  }
 },
 "nbformat": 4,
 "nbformat_minor": 2
}
